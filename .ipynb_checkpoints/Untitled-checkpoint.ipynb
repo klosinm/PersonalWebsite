{
 "cells": [
  {
   "cell_type": "code",
   "execution_count": null,
   "metadata": {},
   "outputs": [],
   "source": [
    "from bokeh.plotting import figure \n",
    "from bokeh.io import output_notebook, show\n",
    "import chart_studio.plotly as py\n",
    "import plotly.figure_factory as ff\n",
    "import pandas as pd\n",
    "\n",
    "candy = pd.read_csv(\"/Users/monicaklosin/Desktop/CandyStats/Candy-Ranking-Stats/candy-data.csv\")\n",
    "#print(candy)\n",
    "\n",
    "table = ff.create_table(candy)\n",
    "py.iplot(table, filename=\"Candy table\")\n",
    "print(candy)"
   ]
  }
 ],
 "metadata": {
  "kernelspec": {
   "display_name": "Python 3",
   "language": "python",
   "name": "python3"
  },
  "language_info": {
   "codemirror_mode": {
    "name": "ipython",
    "version": 3
   },
   "file_extension": ".py",
   "mimetype": "text/x-python",
   "name": "python",
   "nbconvert_exporter": "python",
   "pygments_lexer": "ipython3",
   "version": "3.7.4"
  }
 },
 "nbformat": 4,
 "nbformat_minor": 4
}
