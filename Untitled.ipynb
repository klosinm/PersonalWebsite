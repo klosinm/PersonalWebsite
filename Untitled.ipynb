{
 "cells": [
  {
   "cell_type": "code",
   "execution_count": 86,
   "metadata": {},
   "outputs": [
    {
     "name": "stdout",
     "output_type": "stream",
     "text": [
      "Choco rating:  60.9215294054054\n",
      "Fruity rating:  44.11974142105264\n"
     ]
    }
   ],
   "source": [
    "from bokeh.plotting import figure \n",
    "from bokeh.io import output_notebook, show\n",
    "import chart_studio.plotly as py\n",
    "import plotly.offline as py\n",
    "import plotly.figure_factory as ff\n",
    "import plotly.graph_objects as go\n",
    "from operator import itemgetter\n",
    "import pandas as pd\n",
    "\n",
    "output_file(\"candy-name.html\");\n",
    "candy = pd.read_csv(\"/Users/monicaklosin/Desktop/CandyStats/Candy-Ranking-Stats/candy-data.csv\")\n",
    "\n",
    "#sort by most favored candy\n",
    "candySorted = candy.sort_values(by=['winpercent'], ascending=False)\n",
    "candyName = candySorted.competitorname\n",
    "\n",
    "#calculate the std for each column\n",
    "candy.std()\n",
    "\n",
    "winPercent = candySorted.winpercent\n",
    "\n",
    "\n",
    "#show most favored candy\n",
    "#data = [go.Bar(x=candyName, y=winPercent, marker=dict(color='#F88049'))]\n",
    "#py.plot(data,filename='candy-name.html')\n",
    "\n",
    "data = figure(x_range=candyName, plot_height=500,title= \"Ranking of Candy\", outline_line_color= \"purple\", outline_line_cap=\"round\", toolbar_location=None, tools=\"\")\n",
    "data.vbar(x=candyName, top=winPercent, width=5)\n",
    "x_length = candyName.index * 5.5\n",
    "data.xgrid.grid_line_color = None\n",
    "data.xaxis.major_label_orientation = \"vertical\"\n",
    "width = 60\n",
    "data.y_range.start = 0\n",
    "\n",
    "show(data)\n",
    "\n",
    "\n",
    "\n",
    "#Average\n",
    "def Average(lst):\n",
    "    return sum(lst)/len(lst)\n",
    "\n",
    "#find avg apporval for just choclate candy\n",
    "chocoCandy = candy[candy.chocolate == 1]\n",
    "#print(chocoCandy)\n",
    "chocoRating = Average(chocoCandy.winpercent)\n",
    "print (\"Choco rating: \", chocoRating)\n",
    "\n",
    "\n",
    "#find avg apporval for just fruity candy\n",
    "fruityCandy = candy[candy.fruity == 1]\n",
    "#print(chocoCandy)\n",
    "fruityRating = Average(fruityCandy.winpercent)\n",
    "print (\"Fruity rating: \", fruityRating)\n",
    "\n",
    "#Make bar graph of choco rating and fruity rating\n"
   ]
  },
  {
   "cell_type": "code",
   "execution_count": null,
   "metadata": {},
   "outputs": [],
   "source": []
  },
  {
   "cell_type": "code",
   "execution_count": null,
   "metadata": {},
   "outputs": [],
   "source": []
  },
  {
   "cell_type": "code",
   "execution_count": null,
   "metadata": {},
   "outputs": [],
   "source": []
  },
  {
   "cell_type": "code",
   "execution_count": 45,
   "metadata": {},
   "outputs": [],
   "source": [
    "from math import pi\n",
    "\n",
    "import pandas as pd\n",
    "\n",
    "from bokeh.io import output_file, show\n",
    "from bokeh.palettes import Category20c\n",
    "from bokeh.plotting import figure\n",
    "from bokeh.transform import cumsum\n",
    "\n",
    "output_file(\"pie.html\")\n",
    "\n",
    "x = {\n",
    "    'United States': 157,\n",
    "    'United Kingdom': 93,\n",
    "    'Japan': 89,\n",
    "    'China': 63,\n",
    "    'Germany': 44,\n",
    "    'India': 42,\n",
    "    'Italy': 40,\n",
    "    'Australia': 35,\n",
    "    'Brazil': 32,\n",
    "    'France': 31,\n",
    "    'Taiwan': 31,\n",
    "    'Spain': 29\n",
    "}\n",
    "\n",
    "data = pd.Series(x).reset_index(name='value').rename(columns={'index':'country'})\n",
    "data['angle'] = data['value']/data['value'].sum() * 2*pi\n",
    "data['color'] = Category20c[len(x)]\n",
    "\n",
    "p = figure(plot_height=350, title=\"Pie Chart\", toolbar_location=None,\n",
    "           tools=\"hover\", tooltips=\"@country: @value\", x_range=(-0.5, 1.0))\n",
    "\n",
    "p.wedge(x=0, y=1, radius=0.4,\n",
    "        start_angle=cumsum('angle', include_zero=True), end_angle=cumsum('angle'),\n",
    "        line_color=\"white\", fill_color='color', legend_field='country', source=data)\n",
    "\n",
    "p.axis.axis_label=None\n",
    "p.axis.visible=False\n",
    "p.grid.grid_line_color = None\n",
    "\n",
    "show(p)"
   ]
  },
  {
   "cell_type": "code",
   "execution_count": 47,
   "metadata": {},
   "outputs": [
    {
     "ename": "NameError",
     "evalue": "name 'ColumnDataSource' is not defined",
     "output_type": "error",
     "traceback": [
      "\u001b[0;31m---------------------------------------------------------------------------\u001b[0m",
      "\u001b[0;31mNameError\u001b[0m                                 Traceback (most recent call last)",
      "\u001b[0;32m<ipython-input-47-484205c72142>\u001b[0m in \u001b[0;36m<module>\u001b[0;34m\u001b[0m\n\u001b[1;32m     16\u001b[0m \u001b[0mp\u001b[0m \u001b[0;34m=\u001b[0m \u001b[0mfigure\u001b[0m\u001b[0;34m(\u001b[0m\u001b[0my_range\u001b[0m\u001b[0;34m=\u001b[0m\u001b[0mfruits\u001b[0m\u001b[0;34m,\u001b[0m \u001b[0mplot_height\u001b[0m\u001b[0;34m=\u001b[0m\u001b[0;36m250\u001b[0m\u001b[0;34m,\u001b[0m \u001b[0mx_range\u001b[0m\u001b[0;34m=\u001b[0m\u001b[0;34m(\u001b[0m\u001b[0;34m-\u001b[0m\u001b[0;36m16\u001b[0m\u001b[0;34m,\u001b[0m \u001b[0;36m16\u001b[0m\u001b[0;34m)\u001b[0m\u001b[0;34m,\u001b[0m \u001b[0mtitle\u001b[0m\u001b[0;34m=\u001b[0m\u001b[0;34m\"Fruit import/export, by year\"\u001b[0m\u001b[0;34m)\u001b[0m\u001b[0;34m\u001b[0m\u001b[0;34m\u001b[0m\u001b[0m\n\u001b[1;32m     17\u001b[0m \u001b[0;34m\u001b[0m\u001b[0m\n\u001b[0;32m---> 18\u001b[0;31m p.hbar_stack(years, y='fruits', height=0.9, color=GnBu3, source=ColumnDataSource(exports),\n\u001b[0m\u001b[1;32m     19\u001b[0m              legend_label=[\"%s exports\" % x for x in years])\n\u001b[1;32m     20\u001b[0m \u001b[0;34m\u001b[0m\u001b[0m\n",
      "\u001b[0;31mNameError\u001b[0m: name 'ColumnDataSource' is not defined"
     ]
    }
   ],
   "source": []
  },
  {
   "cell_type": "code",
   "execution_count": null,
   "metadata": {},
   "outputs": [],
   "source": []
  }
 ],
 "metadata": {
  "kernelspec": {
   "display_name": "Python 3",
   "language": "python",
   "name": "python3"
  },
  "language_info": {
   "codemirror_mode": {
    "name": "ipython",
    "version": 3
   },
   "file_extension": ".py",
   "mimetype": "text/x-python",
   "name": "python",
   "nbconvert_exporter": "python",
   "pygments_lexer": "ipython3",
   "version": "3.7.4"
  }
 },
 "nbformat": 4,
 "nbformat_minor": 4
}
